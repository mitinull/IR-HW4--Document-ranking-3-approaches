{
 "cells": [
  {
   "cell_type": "markdown",
   "metadata": {},
   "source": [
    "# Developing an Information Retrieval System with Document Ranking\n",
    "\n",
    "This project aims to augment the Information Retrieval (IR) system developed in the previous assignments by incorporating different Document Ranking strategies. You should use the Cranfield collection as the dataset. You can find\n",
    "that in the original format here or in the TREC XML format with binary tagging here.\n",
    "\n"
   ]
  },
  {
   "cell_type": "markdown",
   "metadata": {},
   "source": [
    "## Project Overview\n",
    "\n",
    "In this project, you will implement three different approaches for document ranking, including the vector space model,\n",
    "the binary independence model, and the language model. Then, you need to compare these ranking models resorting\n",
    "to the evaluation criteria in Lecture 7. Key components and functionalities are as follows:\n"
   ]
  },
  {
   "cell_type": "markdown",
   "metadata": {},
   "source": [
    "### ⬜ Document Ranking – Language Model\n",
    "\n",
    "You will implement a function for document ranking utilizing\n",
    "the language model. The function will take as input a query text and an integer indicating the number of top\n",
    "documents to be retrieved. You can choose between Dirichlet smoothing or Jelinek-Mercer smoothing to avoid\n",
    "zeroes. You do not need to fine-tune parameters λ or α. Albeit, you need to discuss why your chosen methods\n",
    "and parameters are preferred.\n",
    "\n"
   ]
  },
  {
   "cell_type": "code",
   "execution_count": 3,
   "metadata": {},
   "outputs": [],
   "source": [
    "from pathlib import Path  # For standard paths that work on both windows and linux\n",
    "import pickle  # For write/read dicts to/from files\n",
    "import numpy as np\n",
    "from nltk.tokenize import RegexpTokenizer  # For query tokenization\n",
    "from nltk.stem import PorterStemmer  # For query stemming\n",
    "import math # For calculating idf (log(N/df))\n",
    "from collections import Counter # For calculating query's terms frequency"
   ]
  },
  {
   "cell_type": "code",
   "execution_count": 4,
   "metadata": {},
   "outputs": [],
   "source": [
    "tokenizer = RegexpTokenizer(r'\\w+')\n",
    "ps = PorterStemmer()"
   ]
  },
  {
   "cell_type": "code",
   "execution_count": 5,
   "metadata": {},
   "outputs": [],
   "source": [
    "# reading posting list from file\n",
    "# posting list has been created in the last step (preprocessing)\n",
    "posting_list = None\n",
    "docs = None\n",
    "tokenized_docs = None\n",
    "\n",
    "with open(Path(\"files\") / \"posting_list.pkl\", \"rb\") as f:\n",
    "        posting_list = pickle.load(f)\n",
    "\n",
    "with open(Path(\"files\") / \"docs.pkl\", \"rb\") as f:\n",
    "        docs = pickle.load(f)\n",
    "\n",
    "with open(Path(\"files\") / \"tokenized_docs.pkl\", \"rb\") as f:\n",
    "        tokenized_docs = pickle.load(f)"
   ]
  },
  {
   "cell_type": "code",
   "execution_count": 6,
   "metadata": {},
   "outputs": [
    {
     "name": "stdout",
     "output_type": "stream",
     "text": [
      "but(219 docs): [doc_id: frequency] {13: 2, 24: 1, 27: 1, 43: 1, 48: 2, 61: 1, 65: 1, 71: 2, 93: 1, 109: 2, 113: 1, 115: 1, 124: 1, 125: 1, 131: 1, 137: 1, 139: 1, 148: 1, 151: 1, 152: 1, 155: 2, 159: 1, 167: 1, 172: 1, 175: 1, 178: 1, 184: 1, 187: 1, 188: 1, 190: 1, 192: 1, 198: 2, 200: 1, 201: 4, 203: 1, 205: 1, 208: 1, 209: 1, 211: 2, 213: 1, 220: 1, 226: 1, 228: 1, 240: 1, 243: 1, 246: 1, 251: 2, 254: 2, 260: 1, 265: 1, 271: 1, 282: 1, 283: 1, 291: 1, 295: 1, 328: 4, 337: 2, 346: 1, 347: 1, 351: 1, 369: 1, 374: 1, 389: 1, 403: 2, 416: 1, 430: 1, 440: 1, 451: 1, 458: 2, 476: 2, 483: 1, 489: 1, 498: 2, 510: 1, 514: 1, 518: 1, 519: 1, 520: 1, 521: 1, 526: 1, 535: 1, 544: 1, 546: 1, 555: 1, 561: 1, 563: 1, 565: 1, 566: 1, 568: 1, 569: 1, 571: 1, 588: 1, 594: 1, 599: 1, 603: 1, 635: 1, 639: 1, 642: 1, 651: 1, 659: 1, 660: 1, 662: 1, 666: 1, 670: 1, 672: 1, 678: 1, 684: 2, 685: 1, 691: 1, 703: 2, 717: 1, 720: 1, 726: 1, 730: 1, 738: 1, 747: 1, 751: 1, 752: 2, 755: 1, 756: 2, 759: 1, 762: 1, 785: 1, 795: 1, 796: 3, 797: 2, 798: 1, 808: 1, 809: 1, 810: 1, 813: 1, 817: 1, 819: 1, 823: 1, 841: 1, 867: 1, 868: 1, 872: 1, 873: 1, 876: 1, 882: 1, 888: 1, 891: 1, 901: 1, 902: 1, 907: 1, 908: 1, 910: 1, 912: 1, 922: 1, 927: 1, 929: 1, 932: 1, 961: 3, 965: 2, 976: 1, 983: 1, 984: 1, 989: 1, 993: 1, 999: 2, 1000: 1, 1006: 1, 1011: 1, 1034: 1, 1039: 1, 1041: 1, 1046: 2, 1050: 1, 1053: 1, 1065: 1, 1067: 1, 1074: 1, 1077: 1, 1081: 2, 1083: 1, 1109: 1, 1130: 1, 1135: 1, 1164: 1, 1174: 1, 1177: 1, 1181: 1, 1184: 1, 1187: 2, 1188: 1, 1205: 1, 1206: 1, 1209: 1, 1217: 1, 1219: 1, 1224: 1, 1234: 1, 1237: 1, 1238: 2, 1241: 2, 1243: 2, 1244: 1, 1259: 1, 1264: 1, 1270: 1, 1276: 1, 1302: 1, 1308: 1, 1315: 1, 1319: 1, 1320: 1, 1321: 1, 1324: 1, 1336: 1, 1342: 1, 1369: 1, 1371: 1, 1372: 1, 1374: 2, 1379: 1, 1383: 1, 1384: 1, 1391: 1}\n"
     ]
    }
   ],
   "source": [
    "print(f\"but({len(posting_list['but'])} docs): [doc_id: frequency]\",posting_list[\"but\"])"
   ]
  },
  {
   "cell_type": "code",
   "execution_count": 57,
   "metadata": {},
   "outputs": [],
   "source": [
    "def rsv_score(query, k):\n",
    "    query = [ps.stem(token) for token in tokenizer.tokenize(query)]\n",
    "\n",
    "    docs_scores = np.zeros(len(docs))\n",
    "\n",
    "    for doc_id in range(len(docs)):\n",
    "        rsv = 0\n",
    "\n",
    "        for term in set(query):\n",
    "            if term in tokenized_docs[doc_id]:\n",
    "                idf = math.log(len(docs) / len(posting_list[term]), 10)\n",
    "                rsv += idf\n",
    "\n",
    "        docs_scores[doc_id] = rsv\n",
    "        \n",
    "    return docs_scores.argsort()[-k:][::-1]"
   ]
  },
  {
   "cell_type": "code",
   "execution_count": 58,
   "metadata": {},
   "outputs": [],
   "source": [
    "def enhanced_rsv_score(query, k, k1, b):\n",
    "    query = [ps.stem(token) for token in tokenizer.tokenize(query)]\n",
    "\n",
    "    docs_scores = np.zeros(len(docs))\n",
    "\n",
    "    avg_doc_length = sum([len(doc) for doc in tokenized_docs]) / len(tokenized_docs)\n",
    "\n",
    "    for doc_id in range(len(docs)):\n",
    "        rsv = 0\n",
    "\n",
    "        for term in set(query):\n",
    "            if term in tokenized_docs[doc_id]:\n",
    "                idf = math.log(len(docs) / len(posting_list[term]), 10)\n",
    "                tf = posting_list[term][doc_id]\n",
    "                \n",
    "                factor = ((k1 + 1) * tf) / (\n",
    "                    k1 * ((1 - b) + b * len(tokenized_docs[doc_id]) / avg_doc_length)\n",
    "                    + tf\n",
    "                )\n",
    "\n",
    "                rsv += idf * factor\n",
    "\n",
    "        docs_scores[doc_id] = rsv\n",
    "\n",
    "    return docs_scores.argsort()[-k:][::-1]"
   ]
  },
  {
   "cell_type": "code",
   "execution_count": 59,
   "metadata": {},
   "outputs": [],
   "source": [
    "def enhanced_rsv_score_long_query(query, k, k1, b, k3):\n",
    "    query = [ps.stem(token) for token in tokenizer.tokenize(query)]\n",
    "\n",
    "    docs_scores = np.zeros(len(docs))\n",
    "\n",
    "    query_term_frequency = Counter(query)\n",
    "\n",
    "    avg_doc_length = sum([len(doc) for doc in tokenized_docs]) / len(tokenized_docs)\n",
    "\n",
    "    for doc_id in range(len(docs)):\n",
    "        rsv = 0\n",
    "\n",
    "        for term in set(query):\n",
    "            if term in tokenized_docs[doc_id]:\n",
    "                idf = math.log(len(docs) / len(posting_list[term]), 10)\n",
    "                tf_d = posting_list[term][doc_id]\n",
    "                tf_q = query_term_frequency[term]\n",
    "\n",
    "                factor1 = ((k1 + 1) * tf_d) / (\n",
    "                    k1 * ((1 - b) + b * len(tokenized_docs[doc_id]) / avg_doc_length)\n",
    "                    + tf_d\n",
    "                )\n",
    "\n",
    "                factor2 = ((k3 + 1) * tf_q) / (k3 + tf_q)\n",
    "\n",
    "                rsv += idf * factor1 * factor2\n",
    "\n",
    "        docs_scores[doc_id] = rsv\n",
    "\n",
    "    return docs_scores.argsort()[-k:][::-1]"
   ]
  },
  {
   "cell_type": "code",
   "execution_count": 61,
   "metadata": {},
   "outputs": [
    {
     "data": {
      "text/plain": [
       "array([ 495,  519,  902, 1247, 1071], dtype=int64)"
      ]
     },
     "execution_count": 61,
     "metadata": {},
     "output_type": "execute_result"
    }
   ],
   "source": [
    "result = rsv_score(\n",
    "    \"what is the basic mechanism of the transonic aileron buzz .\",\n",
    "    5,\n",
    ")\n",
    "result"
   ]
  },
  {
   "cell_type": "code",
   "execution_count": 62,
   "metadata": {},
   "outputs": [
    {
     "data": {
      "text/plain": [
       "array([ 495,  519,  902, 1247, 1071], dtype=int64)"
      ]
     },
     "execution_count": 62,
     "metadata": {},
     "output_type": "execute_result"
    }
   ],
   "source": [
    "result2 = enhanced_rsv_score(\n",
    "    \"what is the basic mechanism of the transonic aileron buzz .\",\n",
    "    5,\n",
    "    k1 = 0,\n",
    "    b = 0\n",
    ")\n",
    "result2"
   ]
  },
  {
   "cell_type": "code",
   "execution_count": 63,
   "metadata": {},
   "outputs": [
    {
     "data": {
      "text/plain": [
       "array([495, 902, 519, 312, 439], dtype=int64)"
      ]
     },
     "execution_count": 63,
     "metadata": {},
     "output_type": "execute_result"
    }
   ],
   "source": [
    "result2 = enhanced_rsv_score(\n",
    "    \"what is the basic mechanism of the transonic aileron buzz .\",\n",
    "    5,\n",
    "    k1 = 1,\n",
    "    b = 1\n",
    ")\n",
    "result2"
   ]
  },
  {
   "cell_type": "code",
   "execution_count": 66,
   "metadata": {},
   "outputs": [
    {
     "name": "stdout",
     "output_type": "stream",
     "text": [
      "================== Result 1 ==================\n",
      "a theory of transonic aileron buzz, neglecting viscous\n",
      "effects .\n",
      "  usaf-sponsored analysis of the unsteady perturbations of\n",
      "two-dimensional transonic flow around an airfoil, where local supersonic\n",
      "regions terminated by shock waves are present in the vicinity of the\n",
      "airfoil .  viscous effects are neglected, and a linearized theory of\n",
      "the perturbations due to harmonic oscillations of an aileron is\n",
      "developed .  a series solution for the pressure distribution is obtained,\n",
      "and numerical results for the nonsteady hinge moment, from the\n",
      "first approximation to the solution, are presented .  as a result of\n",
      "flutter analysis a stability boundary for transonic aileron buzz is\n",
      "obtained .  comparison of the theoretical results with experimental\n",
      "observations shows satisfactory agreement .\n",
      "\n",
      "================== Result 2 ==================\n",
      "two dimensional transonic unsteady flow with shock\n",
      "waves .\n",
      "  a study is made of the unsteady flow around an\n",
      "airfoil at transonic mach numbers, the situation being\n",
      "such that local supersonic regions terminated by\n",
      "shock-waves are present in the vicinity of the airfoil .  for\n",
      "the unsteady part of the flow, small perturbations\n",
      "technique is employed and the interaction with the shock\n",
      "wave is taken into account .  the case of an oscillating\n",
      "aileron is considered first, and a solution is derived\n",
      "for the pressure distribution on the aileron .  it is\n",
      "found that the solution has a simple form when the\n",
      "shock-wave is well ahead of the hinge axis of the\n",
      "aileron .  as the shock approaches the hinge-axis a\n",
      "correction must be added to the solution .  an\n",
      "interpretation of these results is given .  the results are\n",
      "compared with results of a theory which neglects the\n",
      "presence of the shock and it is found that both agree\n",
      "for m = 1 .  for m   1, however, neglecting the presence\n",
      "of the shock waves introduces errors of the order of\n",
      "magnitude (1 - m), where m is the local mach number\n",
      "behind the shock .\n",
      "  the theory is finally extended to include the case\n",
      "in which the whole airfoil oscillates, but only the\n",
      "solution for the subsonic region behind the shock is\n",
      "treated .  the role of the unsteady shock-boundary layer\n",
      "interaction is discussed and it is shown that this\n",
      "mechanism can be included in the results of the present\n",
      "theory .\n",
      "\n",
      "================== Result 3 ==================\n",
      "wing-tail interference as a cause of 'magnus' effects\n",
      "on a finned missile .\n",
      "  wing-tail interference is shown to cause large /magnus/ effects\n",
      "on a finned missile whose wings are deflected into an aileron\n",
      "setting .  a simple experimental method with water as the\n",
      "working medium is used to obtain low-speed magnus data on a rolling\n",
      "missile .  the missile is a slender cruciform configuration with\n",
      "all-movable wings and fixed tail fins .  magnus data are\n",
      "presented for angles of attack up to 15 and for the one (high) roll\n",
      "rate which accompanies a 30 aileron deflection angle of the\n",
      "wings .  tests conducted at zero roll rate but with the wing\n",
      "deflection maintained, revealed large forces in the magnus direction,\n",
      "thereby providing the basis for understanding magnus effects due\n",
      "to wing-tail interference .\n",
      "  a semiempirical theory is proposed to explain the experimental\n",
      "data .  a simplified model of the wake behind the wings is\n",
      "introduced to predict tail-interference factors .  good agreement with\n",
      "the data is obtained .\n",
      "  this magnus effect is opposite in direction to the classical\n",
      "magnus lift on a spinning cylinder ,. it is much larger than either\n",
      "that effect or the one on a missile with only one set of fins .\n",
      "wing-tail interference is the predominant source of the effect ,. roll rate\n",
      "only modifies the basic interference mechanism .\n",
      "\n",
      "================== Result 4 ==================\n",
      "on alternative forms for the basic equations of transonic\n",
      "flow theory .\n",
      "attention has been called by numerous authors to the\n",
      "possibility of certain alternative forms for the equations for\n",
      "transonic flow about thin wings .  it is the purpose of this note\n",
      "to contribute to this discussion and to indicate some reasons for\n",
      "the selection of one form of these in preference to another more\n",
      "widely used form .\n",
      "\n",
      "================== Result 5 ==================\n",
      "compilation of information on the transonic attachment\n",
      "of flows at the leading edge of airfoils .\n",
      "  schlieren photographs have been compiled of the two-dimensional flow\n",
      "at transonic speeds past 37 airfoils having variously shaped profiles,\n",
      "some of which are related and vary in thickness and camber .  the data\n",
      "for these airfoils were analyzed to provide basic information on the\n",
      "flow changes involved and to determine factors affecting transonic-flow\n",
      "attachment, which is a transition from separated to unseparated flow at\n",
      "the leading edges of two-dimensional airfoils at fixed angles of attack\n",
      "as the subsonic mach number is increased .\n",
      "\n"
     ]
    }
   ],
   "source": [
    "# Show the results\n",
    "for i, doc_id in enumerate(result2):\n",
    "    print(f\"================== Result {i + 1} ==================\")\n",
    "    print(docs[doc_id])\n",
    "    print()"
   ]
  },
  {
   "cell_type": "markdown",
   "metadata": {},
   "source": [
    "### ⬜ Long queries – Probabilistic Model (Optional)\n",
    "\n",
    "Handle long queries by having your function alternatively\n",
    "switch between Okapi BM25 approaches based on the query length."
   ]
  },
  {
   "cell_type": "code",
   "execution_count": null,
   "metadata": {},
   "outputs": [
    {
     "data": {
      "text/plain": [
       "array([495, 902, 519, 312, 439], dtype=int64)"
      ]
     },
     "execution_count": 64,
     "metadata": {},
     "output_type": "execute_result"
    }
   ],
   "source": [
    "result3 = enhanced_rsv_score_long_query(\n",
    "    \"what is the basic mechanism of the transonic transonic transonic aileron buzz .\",\n",
    "    5,\n",
    "    k1 = 1,\n",
    "    b = 1,\n",
    "    k3 = 0\n",
    ")\n",
    "result3"
   ]
  },
  {
   "cell_type": "code",
   "execution_count": 67,
   "metadata": {},
   "outputs": [
    {
     "data": {
      "text/plain": [
       "array([495, 902, 312, 439,  37], dtype=int64)"
      ]
     },
     "execution_count": 67,
     "metadata": {},
     "output_type": "execute_result"
    }
   ],
   "source": [
    "result3 = enhanced_rsv_score_long_query(\n",
    "    \"what is the basic mechanism of the transonic transonic transonic aileron buzz .\",\n",
    "    5,\n",
    "    k1 = 1,\n",
    "    b = 1,\n",
    "    k3 = 1\n",
    ")\n",
    "result3"
   ]
  },
  {
   "cell_type": "code",
   "execution_count": 68,
   "metadata": {},
   "outputs": [
    {
     "name": "stdout",
     "output_type": "stream",
     "text": [
      "================== Result 1 ==================\n",
      "a theory of transonic aileron buzz, neglecting viscous\n",
      "effects .\n",
      "  usaf-sponsored analysis of the unsteady perturbations of\n",
      "two-dimensional transonic flow around an airfoil, where local supersonic\n",
      "regions terminated by shock waves are present in the vicinity of the\n",
      "airfoil .  viscous effects are neglected, and a linearized theory of\n",
      "the perturbations due to harmonic oscillations of an aileron is\n",
      "developed .  a series solution for the pressure distribution is obtained,\n",
      "and numerical results for the nonsteady hinge moment, from the\n",
      "first approximation to the solution, are presented .  as a result of\n",
      "flutter analysis a stability boundary for transonic aileron buzz is\n",
      "obtained .  comparison of the theoretical results with experimental\n",
      "observations shows satisfactory agreement .\n",
      "\n",
      "================== Result 2 ==================\n",
      "two dimensional transonic unsteady flow with shock\n",
      "waves .\n",
      "  a study is made of the unsteady flow around an\n",
      "airfoil at transonic mach numbers, the situation being\n",
      "such that local supersonic regions terminated by\n",
      "shock-waves are present in the vicinity of the airfoil .  for\n",
      "the unsteady part of the flow, small perturbations\n",
      "technique is employed and the interaction with the shock\n",
      "wave is taken into account .  the case of an oscillating\n",
      "aileron is considered first, and a solution is derived\n",
      "for the pressure distribution on the aileron .  it is\n",
      "found that the solution has a simple form when the\n",
      "shock-wave is well ahead of the hinge axis of the\n",
      "aileron .  as the shock approaches the hinge-axis a\n",
      "correction must be added to the solution .  an\n",
      "interpretation of these results is given .  the results are\n",
      "compared with results of a theory which neglects the\n",
      "presence of the shock and it is found that both agree\n",
      "for m = 1 .  for m   1, however, neglecting the presence\n",
      "of the shock waves introduces errors of the order of\n",
      "magnitude (1 - m), where m is the local mach number\n",
      "behind the shock .\n",
      "  the theory is finally extended to include the case\n",
      "in which the whole airfoil oscillates, but only the\n",
      "solution for the subsonic region behind the shock is\n",
      "treated .  the role of the unsteady shock-boundary layer\n",
      "interaction is discussed and it is shown that this\n",
      "mechanism can be included in the results of the present\n",
      "theory .\n",
      "\n",
      "================== Result 3 ==================\n",
      "on alternative forms for the basic equations of transonic\n",
      "flow theory .\n",
      "attention has been called by numerous authors to the\n",
      "possibility of certain alternative forms for the equations for\n",
      "transonic flow about thin wings .  it is the purpose of this note\n",
      "to contribute to this discussion and to indicate some reasons for\n",
      "the selection of one form of these in preference to another more\n",
      "widely used form .\n",
      "\n",
      "================== Result 4 ==================\n",
      "compilation of information on the transonic attachment\n",
      "of flows at the leading edge of airfoils .\n",
      "  schlieren photographs have been compiled of the two-dimensional flow\n",
      "at transonic speeds past 37 airfoils having variously shaped profiles,\n",
      "some of which are related and vary in thickness and camber .  the data\n",
      "for these airfoils were analyzed to provide basic information on the\n",
      "flow changes involved and to determine factors affecting transonic-flow\n",
      "attachment, which is a transition from separated to unseparated flow at\n",
      "the leading edges of two-dimensional airfoils at fixed angles of attack\n",
      "as the subsonic mach number is increased .\n",
      "\n",
      "================== Result 5 ==================\n",
      "on the prediction of mixed subsonic/supersonic pressure\n",
      "distributions .\n",
      "  high-speed wind-tunnel results are analyzed to derive a\n",
      "semiempirical scheme for the prediction of transonic pressure\n",
      "distributions .  the supersonic and subsonic parts of the flow are\n",
      "treated separately, and then linked by an empirical shock\n",
      "pressure rise relation .  the significance of the empirical results is\n",
      "considered in relation to the physical mechanism of transonic\n",
      "flows .  it is also shown that theoretical solutions can be\n",
      "improved by introducing the empirical shock relation .\n",
      "\n"
     ]
    }
   ],
   "source": [
    "# Show the results\n",
    "for i, doc_id in enumerate(result3):\n",
    "    print(f\"================== Result {i + 1} ==================\")\n",
    "    print(docs[doc_id])\n",
    "    print()"
   ]
  }
 ],
 "metadata": {
  "kernelspec": {
   "display_name": "Python 3",
   "language": "python",
   "name": "python3"
  },
  "language_info": {
   "codemirror_mode": {
    "name": "ipython",
    "version": 3
   },
   "file_extension": ".py",
   "mimetype": "text/x-python",
   "name": "python",
   "nbconvert_exporter": "python",
   "pygments_lexer": "ipython3",
   "version": "3.10.11"
  }
 },
 "nbformat": 4,
 "nbformat_minor": 2
}
