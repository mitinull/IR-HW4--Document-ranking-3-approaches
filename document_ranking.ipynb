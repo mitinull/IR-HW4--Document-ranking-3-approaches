{
 "cells": [
  {
   "cell_type": "markdown",
   "metadata": {},
   "source": [
    "# Developing an Information Retrieval System with Document Ranking\n",
    "\n",
    "This project aims to augment the Information Retrieval (IR) system developed in the previous assignments by incorporating different Document Ranking strategies. You should use the Cranfield collection as the dataset. You can find\n",
    "that in the original format here or in the TREC XML format with binary tagging here.\n"
   ]
  },
  {
   "cell_type": "markdown",
   "metadata": {},
   "source": [
    "## Project Overview\n",
    "\n",
    "In this project, you will implement three different approaches for document ranking, including the vector space model,\n",
    "the binary independence model, and the language model. Then, you need to compare these ranking models resorting\n",
    "to the evaluation criteria in Lecture 7. Key components and functionalities are as follows:\n"
   ]
  },
  {
   "cell_type": "markdown",
   "metadata": {},
   "source": [
    "### ⬜ Document Preprocessing\n",
    "\n",
    "Your project will begin by reading and preprocessing a collection of text documents\n",
    "– for each document you only need to retain the text with TITLE and TEXT tags. The dataset also contains\n",
    "queries and relevant documents to each query which will be useful in the evaluation phase.\n"
   ]
  },
  {
   "cell_type": "code",
   "execution_count": 1,
   "metadata": {},
   "outputs": [],
   "source": [
    "from pathlib import Path  # For standard paths that work on both windows and linux\n",
    "import xml.etree.ElementTree as ET  # For reading xml files\n",
    "from nltk.tokenize import RegexpTokenizer  # For tokenization\n",
    "from nltk.stem import PorterStemmer  # For stemming\n",
    "import numpy as np\n",
    "import math  # For calculating idf (math.log(N/df))\n",
    "from collections import Counter  # For calculating query's terms frequency\n",
    "import matplotlib.pyplot as plt  # For 11-point interpolated average precision"
   ]
  },
  {
   "cell_type": "code",
   "execution_count": 2,
   "metadata": {},
   "outputs": [],
   "source": [
    "tokenizer = RegexpTokenizer(r\"\\w+\")\n",
    "ps = PorterStemmer()"
   ]
  },
  {
   "cell_type": "code",
   "execution_count": 3,
   "metadata": {},
   "outputs": [
    {
     "name": "stdout",
     "output_type": "stream",
     "text": [
      "======== DOC 0 ========\n",
      "experimental investigation of the aerodynamics of a\n",
      "wing in a slipstream .\n",
      "  an experimental study of a wing in a propeller slipstream was\n",
      "made in order to determine the spanwise distribution of the l...\n",
      "======== DOC 1 ========\n",
      "simple shear flow past a flat plate in an incompressible fluid of small\n",
      "viscosity .\n",
      "in the study of high-speed viscous flow past a two-dimensional body it\n",
      "is usually necessary to consider a curved sho...\n"
     ]
    }
   ],
   "source": [
    "DOCS_PATH = Path(\"cranfield-dataset\") / \"cran.all.1400.xml\"\n",
    "\n",
    "root = ET.parse(DOCS_PATH).getroot()\n",
    "\n",
    "\n",
    "for i, doc in enumerate(root.findall(\"doc\")):\n",
    "\n",
    "    print(f\"======== DOC {i} ========\")\n",
    "\n",
    "    print(doc.find(\"text\").text[:200], \"...\", sep=\"\")\n",
    "\n",
    "    if i >= 1:\n",
    "        break"
   ]
  },
  {
   "cell_type": "code",
   "execution_count": 4,
   "metadata": {},
   "outputs": [],
   "source": [
    "docs = []\n",
    "docs_tokens = []\n",
    "collection_tokens = []\n",
    "posting_list = {}\n",
    "\n",
    "for doc_id, doc in enumerate(root.findall(\"doc\")):\n",
    "    text = doc.find(\"text\").text or \"\"\n",
    "    tokens = tokenizer.tokenize(text)\n",
    "    tokens = [ps.stem(token) for token in tokens]\n",
    "\n",
    "    docs.append(text)\n",
    "    docs_tokens.append(tokens)\n",
    "\n",
    "    for token in tokens:\n",
    "        collection_tokens.append(token)\n",
    "\n",
    "    for term in tokens:\n",
    "        if posting_list.get(term) == None:\n",
    "            posting_list[term] = {}\n",
    "\n",
    "        if posting_list[term].get(doc_id) == None:\n",
    "            posting_list[term][doc_id] = 0\n",
    "\n",
    "        posting_list[term][doc_id] += 1"
   ]
  },
  {
   "cell_type": "code",
   "execution_count": 5,
   "metadata": {},
   "outputs": [
    {
     "name": "stdout",
     "output_type": "stream",
     "text": [
      "but(219 docs): [doc_id: frequency] {13: 2, 24: 1, 27: 1, 43: 1, 48: 2, 61: 1, 65: 1, 71: 2, 93: 1, 109: 2, 113: 1, 115: 1, 124: 1, 125: 1, 131: 1, 137: 1, 139: 1, 148: 1, 151: 1, 152: 1, 155: 2, 159: 1, 167: 1, 172: 1, 175: 1, 178: 1, 184: 1, 187: 1, 188: 1, 190: 1, 192: 1, 198: 2, 200: 1, 201: 4, 203: 1, 205: 1, 208: 1, 209: 1, 211: 2, 213: 1, 220: 1, 226: 1, 228: 1, 240: 1, 243: 1, 246: 1, 251: 2, 254: 2, 260: 1, 265: 1, 271: 1, 282: 1, 283: 1, 291: 1, 295: 1, 328: 4, 337: 2, 346: 1, 347: 1, 351: 1, 369: 1, 374: 1, 389: 1, 403: 2, 416: 1, 430: 1, 440: 1, 451: 1, 458: 2, 476: 2, 483: 1, 489: 1, 498: 2, 510: 1, 514: 1, 518: 1, 519: 1, 520: 1, 521: 1, 526: 1, 535: 1, 544: 1, 546: 1, 555: 1, 561: 1, 563: 1, 565: 1, 566: 1, 568: 1, 569: 1, 571: 1, 588: 1, 594: 1, 599: 1, 603: 1, 635: 1, 639: 1, 642: 1, 651: 1, 659: 1, 660: 1, 662: 1, 666: 1, 670: 1, 672: 1, 678: 1, 684: 2, 685: 1, 691: 1, 703: 2, 717: 1, 720: 1, 726: 1, 730: 1, 738: 1, 747: 1, 751: 1, 752: 2, 755: 1, 756: 2, 759: 1, 762: 1, 785: 1, 795: 1, 796: 3, 797: 2, 798: 1, 808: 1, 809: 1, 810: 1, 813: 1, 817: 1, 819: 1, 823: 1, 841: 1, 867: 1, 868: 1, 872: 1, 873: 1, 876: 1, 882: 1, 888: 1, 891: 1, 901: 1, 902: 1, 907: 1, 908: 1, 910: 1, 912: 1, 922: 1, 927: 1, 929: 1, 932: 1, 961: 3, 965: 2, 976: 1, 983: 1, 984: 1, 989: 1, 993: 1, 999: 2, 1000: 1, 1006: 1, 1011: 1, 1034: 1, 1039: 1, 1041: 1, 1046: 2, 1050: 1, 1053: 1, 1065: 1, 1067: 1, 1074: 1, 1077: 1, 1081: 2, 1083: 1, 1109: 1, 1130: 1, 1135: 1, 1164: 1, 1174: 1, 1177: 1, 1181: 1, 1184: 1, 1187: 2, 1188: 1, 1205: 1, 1206: 1, 1209: 1, 1217: 1, 1219: 1, 1224: 1, 1234: 1, 1237: 1, 1238: 2, 1241: 2, 1243: 2, 1244: 1, 1259: 1, 1264: 1, 1270: 1, 1276: 1, 1302: 1, 1308: 1, 1315: 1, 1319: 1, 1320: 1, 1321: 1, 1324: 1, 1336: 1, 1342: 1, 1369: 1, 1371: 1, 1372: 1, 1374: 2, 1379: 1, 1383: 1, 1384: 1, 1391: 1}\n"
     ]
    }
   ],
   "source": [
    "print(f\"but({len(posting_list['but'])} docs): [doc_id: frequency]\", posting_list[\"but\"])"
   ]
  },
  {
   "cell_type": "code",
   "execution_count": 6,
   "metadata": {},
   "outputs": [
    {
     "name": "stdout",
     "output_type": "stream",
     "text": [
      "Number of 'but's in doc_13 = 2\n"
     ]
    }
   ],
   "source": [
    "# test if above result is correct\n",
    "num_but_in_doc_13 = sum(np.array(docs[13].split()) == \"but\")\n",
    "print(\"Number of 'but's in doc_13 =\", num_but_in_doc_13)"
   ]
  },
  {
   "cell_type": "code",
   "execution_count": 7,
   "metadata": {},
   "outputs": [],
   "source": [
    "def format_results(docs_scores, k, print_results=False):\n",
    "    result_docs_ids = docs_scores.argsort()[-k:][::-1]\n",
    "\n",
    "    results = [\n",
    "        {\"id\": result_docs_ids[i], \"score\": docs_scores[result_docs_ids[i]]}\n",
    "        for i in range(len(result_docs_ids))\n",
    "    ]\n",
    "\n",
    "    if print_results:\n",
    "        for i, result in enumerate(results):\n",
    "            print(f\"====================== Result {i + 1} ======================\")\n",
    "            print(result)\n",
    "            print(docs[result[\"id\"]][:100].replace(\"\\n\", \"\"), \"...\", sep=\"\")\n",
    "            print()\n",
    "\n",
    "    return results"
   ]
  },
  {
   "cell_type": "markdown",
   "metadata": {},
   "source": [
    "### ⬜ Document Ranking – Space Vector Model\n",
    "\n",
    "You will implement a function for document ranking utilizing\n",
    "the tf-idf weighting approach. The function will take as input a query text and an integer indicating the number\n",
    "of top documents to be retrieved. To this end, you might need to store additional information about the ”term\n",
    "frequency” in each document and the ”document frequency” of each term. A good representation and sufficient\n",
    "data storage facilitate you in implementing other models too. You can choose between <u style=\"color:orangered\">different tf-idf variants</u>\n",
    "and need to discuss why your chosen approach is preferred.\n"
   ]
  },
  {
   "attachments": {
    "image.png": {
     "image/png": "[encoded data removed]"
    }
   },
   "cell_type": "markdown",
   "metadata": {},
   "source": [
    "#### ◼ tf-idf variants\n",
    "\n",
    "I'm using ntc(regarding to slides) for both documents and queries.\n",
    "\n",
    "![image.png](attachment:image.png)\n",
    "\n",
    "This is perfect because it considers the number of tokens occurring in a document or query.\n",
    "\n",
    "If someone repeats a word twice in a query it means the word is more important.\n"
   ]
  },
  {
   "cell_type": "code",
   "execution_count": 8,
   "metadata": {},
   "outputs": [],
   "source": [
    "def cosine_score(query, k, print_results=False):\n",
    "    query = [ps.stem(token) for token in tokenizer.tokenize(query)]\n",
    "\n",
    "    query_term_frequency = Counter(query)\n",
    "\n",
    "    docs_scores = np.zeros(len(docs))\n",
    "\n",
    "    for term in posting_list:\n",
    "        idf = math.log(\n",
    "            len(docs) / len(posting_list[term]), 10\n",
    "        )  # Log base is 10 in the slides\n",
    "\n",
    "        term_query_weight = query_term_frequency[term] * idf\n",
    "\n",
    "        for doc_id in posting_list[term]:\n",
    "            tf = posting_list[term][doc_id]\n",
    "\n",
    "            term_doc_weight = tf * idf\n",
    "\n",
    "            docs_scores[doc_id] += term_query_weight * term_doc_weight\n",
    "\n",
    "    for i in range(len(docs_scores)):\n",
    "        docs_scores[i] /= len(docs_tokens[i]) or 1\n",
    "\n",
    "    return format_results(docs_scores, k, print_results)"
   ]
  },
  {
   "cell_type": "code",
   "execution_count": 9,
   "metadata": {},
   "outputs": [
    {
     "name": "stdout",
     "output_type": "stream",
     "text": [
      "====================== Result 1 ======================\n",
      "{'id': 63, 'score': 0.18509858343250643}\n",
      "unsteady oblique interaction of a shock wave with planedisturbances .  analysis is made of the flo...\n",
      "\n",
      "====================== Result 2 ======================\n",
      "{'id': 401, 'score': 0.09745768270811708}\n",
      "magnetohydrodynamics shocks .  a mathematical treatment of the coupled motion ofhydrodynamic flow ...\n",
      "\n",
      "====================== Result 3 ======================\n",
      "{'id': 64, 'score': 0.09550694068965461}\n",
      "convection of a pattern of vorticity through a shockwave .  an arbitrary weak spatial distribution...\n",
      "\n"
     ]
    },
    {
     "data": {
      "text/plain": [
       "[{'id': 63, 'score': 0.18509858343250643},\n",
       " {'id': 401, 'score': 0.09745768270811708},\n",
       " {'id': 64, 'score': 0.09550694068965461}]"
      ]
     },
     "execution_count": 9,
     "metadata": {},
     "output_type": "execute_result"
    }
   ],
   "source": [
    "cosine_score(\"papers on shock-sound wave interaction\", 3, print_results=True)"
   ]
  },
  {
   "cell_type": "markdown",
   "metadata": {},
   "source": [
    "### ⬜ Document Ranking – Probabilistic Model\n",
    "\n",
    "You will implement a function for document ranking utilizing\n",
    "the Okapi BM25 basic weighting approach. The function will take as input a query text and an integer indicating\n",
    "the number of top documents to be retrieved. You do not need to fine-tune parameters b, k1, k3. Nevertheless,\n",
    "you have to <u>argue why the acquired parameters make sense</u>.\n"
   ]
  },
  {
   "cell_type": "markdown",
   "metadata": {},
   "source": [
    "### ⬜ Long queries – Probabilistic Model (Optional)\n",
    "\n",
    "Handle long queries by having your function <u>alternatively switch</u> between Okapi BM25 approaches based on the query length.\n"
   ]
  },
  {
   "cell_type": "markdown",
   "metadata": {},
   "source": [
    "#### ◼ argue why the acquired parameters make sense\n",
    "\n",
    "regarding to slides:\n",
    "The above tuning parameters should ideally be set to optimize performance\n",
    "on a development test collection. In the absence of such optimization,\n",
    "experiments have shown reasonable values are to\n",
    "<u style=\"color:orangered\">set k1 and k3 to a value between 1.2 and 2</u> and <u style=\"color:orangered\">b = 0.75</u>\n",
    "\n",
    "k1 = 1.5 makes sense because when tf becomes twice, the rsv changes less than twice.\n",
    "b = .75 makes sense because when a document is twice bigger it gets a score more than twice smaller.\n",
    "k3 = 1.5 makes sense. the same reason for k1 but this time for query.\n"
   ]
  },
  {
   "cell_type": "code",
   "execution_count": 10,
   "metadata": {},
   "outputs": [],
   "source": [
    "avg_doc_length = sum([len(doc) for doc in docs_tokens]) / len(docs_tokens)"
   ]
  },
  {
   "cell_type": "code",
   "execution_count": 11,
   "metadata": {},
   "outputs": [],
   "source": [
    "def rsv_score(query, k, print_results=False):\n",
    "    query = [ps.stem(token) for token in tokenizer.tokenize(query)]\n",
    "\n",
    "    k1, k3, b = 1.5, 1.5, 0.75\n",
    "    threshold = 10\n",
    "\n",
    "    if len(query) < threshold:\n",
    "        k3 = 0  # If query is not long, don't consider k3.\n",
    "\n",
    "    docs_scores = np.zeros(len(docs))\n",
    "\n",
    "    query_term_frequency = Counter(query)\n",
    "\n",
    "    for doc_id in range(len(docs)):\n",
    "        for term in set(query):\n",
    "            if term in docs_tokens[doc_id]:\n",
    "                idf = math.log(len(docs) / len(posting_list[term]), 10)\n",
    "                tf_d = posting_list[term][doc_id]\n",
    "                tf_q = query_term_frequency[term]\n",
    "\n",
    "                factor1 = ((k1 + 1) * tf_d) / (\n",
    "                    k1 * ((1 - b) + b * len(docs_tokens[doc_id]) / avg_doc_length)\n",
    "                    + tf_d\n",
    "                )\n",
    "\n",
    "                factor2 = ((k3 + 1) * tf_q) / (k3 + tf_q)\n",
    "\n",
    "                docs_scores[doc_id] += idf * factor1 * factor2\n",
    "\n",
    "    return format_results(docs_scores, k, print_results)"
   ]
  },
  {
   "cell_type": "code",
   "execution_count": 12,
   "metadata": {},
   "outputs": [
    {
     "name": "stdout",
     "output_type": "stream",
     "text": [
      "====================== Result 1 ======================\n",
      "{'id': 63, 'score': 8.064827521193093}\n",
      "unsteady oblique interaction of a shock wave with planedisturbances .  analysis is made of the flo...\n",
      "\n",
      "====================== Result 2 ======================\n",
      "{'id': 131, 'score': 6.000580014244672}\n",
      "viscosity effects in sound waves of finite amplitude:in survey in mechanics .  this article has as...\n",
      "\n",
      "====================== Result 3 ======================\n",
      "{'id': 169, 'score': 5.864529920069774}\n",
      "the interaction of a reflected shock wave with theboundary layer in a shock tube .  ideally, the r...\n",
      "\n"
     ]
    },
    {
     "data": {
      "text/plain": [
       "[{'id': 63, 'score': 8.064827521193093},\n",
       " {'id': 131, 'score': 6.000580014244672},\n",
       " {'id': 169, 'score': 5.864529920069774}]"
      ]
     },
     "execution_count": 12,
     "metadata": {},
     "output_type": "execute_result"
    }
   ],
   "source": [
    "rsv_score(\"papers on shock-sound wave interaction\", 3, print_results=True)"
   ]
  },
  {
   "cell_type": "markdown",
   "metadata": {},
   "source": [
    "### ⬜ Document Ranking – Language Model\n",
    "\n",
    "You will implement a function for document ranking utilizing\n",
    "the language model. The function will take as input a query text and an integer indicating the number of top\n",
    "documents to be retrieved. You can choose between Dirichlet smoothing or Jelinek-Mercer smoothing to avoid\n",
    "zeroes. You do not need to fine-tune parameters λ or α. Albeit, you need to discuss why your chosen methods\n",
    "and parameters are preferred.\n"
   ]
  },
  {
   "cell_type": "markdown",
   "metadata": {},
   "source": [
    "#### ◼ discuss why your chosen methods and parameters are preferred\n",
    "\n",
    "Jelinek-Mercer because:\n",
    "\n",
    "- It has good performance\n",
    "- Easy to implement\n",
    "- Fast (because we pre-compute collection model and document model)\n",
    "\n",
    "lambda = 0.5 because it is 0.5 in slides example and makes sense.\n",
    "when lambda = 0.5, we calculate score by paying attention to probability of occurring term in a document and probability of occurring term in a collection equally. in this way, less frequent terms become more important as much as they should. when a term has high collection frequency, the term increases scores of all documents, so it doesn't make a significant difference. but when a term is rare it just increases scores of the documents that it occurred in; hence this documents get a high score.\n"
   ]
  },
  {
   "cell_type": "code",
   "execution_count": 13,
   "metadata": {},
   "outputs": [
    {
     "name": "stdout",
     "output_type": "stream",
     "text": [
      "{'experiment': 470, 'investig': 524, 'of': 12671}\n"
     ]
    }
   ],
   "source": [
    "# Number of occurrences in the collection for each term.\n",
    "collection_frequency = Counter(collection_tokens)\n",
    "print({term: collection_frequency[term] for term in collection_tokens[:3]})"
   ]
  },
  {
   "cell_type": "code",
   "execution_count": 14,
   "metadata": {},
   "outputs": [
    {
     "name": "stdout",
     "output_type": "stream",
     "text": [
      "{'experiment': 0.0020734531818683137, 'investig': 0.002311679717657439, 'of': 0.055899415462666815}\n"
     ]
    }
   ],
   "source": [
    "# Probability of occurrence in the collection for each term.\n",
    "collection_model = {\n",
    "    key: collection_frequency[key] / len(collection_tokens)\n",
    "    for key in collection_frequency\n",
    "}\n",
    "print({term: collection_model[term] for term in collection_tokens[:3]})"
   ]
  },
  {
   "cell_type": "code",
   "execution_count": 15,
   "metadata": {},
   "outputs": [
    {
     "data": {
      "text/plain": [
       "1.0000000000000562"
      ]
     },
     "execution_count": 15,
     "metadata": {},
     "output_type": "execute_result"
    }
   ],
   "source": [
    "# Sum of all probabilities must be one. (Just for testing)\n",
    "sum([collection_model[term] for term in collection_model])"
   ]
  },
  {
   "cell_type": "code",
   "execution_count": 16,
   "metadata": {},
   "outputs": [
    {
     "name": "stdout",
     "output_type": "stream",
     "text": [
      "doc_0: {'experiment': 0.014388489208633094, 'investig': 0.007194244604316547, 'of': 0.07194244604316546, 'the': 0.08633093525179857, 'aerodynam': 0.007194244604316547, 'a': 0.050359712230215826, 'wing': 0.02158273381294964, 'in': 0.02877697841726619, 'slipstream': 0.03597122302158273, 'an': 0.02158273381294964, 'studi': 0.007194244604316547, 'propel': 0.007194244604316547, 'wa': 0.02877697841726619, 'made': 0.014388489208633094, 'order': 0.007194244604316547, 'to': 0.03597122302158273, 'determin': 0.007194244604316547, 'spanwis': 0.007194244604316547, 'distribut': 0.007194244604316547, 'lift': 0.02877697841726619, 'increas': 0.007194244604316547, 'due': 0.014388489208633094, 'at': 0.014388489208633094, 'differ': 0.02158273381294964, 'angl': 0.007194244604316547, 'attack': 0.007194244604316547, 'and': 0.007194244604316547, 'free': 0.007194244604316547, 'stream': 0.007194244604316547, 'veloc': 0.007194244604316547, 'ratio': 0.007194244604316547, 'result': 0.007194244604316547, 'were': 0.007194244604316547, 'intend': 0.007194244604316547, 'part': 0.014388489208633094, 'as': 0.007194244604316547, 'evalu': 0.014388489208633094, 'basi': 0.007194244604316547, 'for': 0.014388489208633094, 'theoret': 0.007194244604316547, 'treatment': 0.007194244604316547, 'thi': 0.014388489208633094, 'problem': 0.007194244604316547, 'compar': 0.007194244604316547, 'span': 0.007194244604316547, 'load': 0.007194244604316547, 'curv': 0.007194244604316547, 'togeth': 0.007194244604316547, 'with': 0.014388489208633094, 'support': 0.007194244604316547, 'evid': 0.007194244604316547, 'show': 0.007194244604316547, 'that': 0.007194244604316547, 'substanti': 0.007194244604316547, 'increment': 0.014388489208633094, 'produc': 0.007194244604316547, 'by': 0.007194244604316547, 'destal': 0.02158273381294964, 'or': 0.007194244604316547, 'boundari': 0.007194244604316547, 'layer': 0.007194244604316547, 'control': 0.007194244604316547, 'effect': 0.014388489208633094, 'integr': 0.007194244604316547, 'remain': 0.007194244604316547, 'after': 0.007194244604316547, 'subtract': 0.007194244604316547, 'found': 0.007194244604316547, 'agre': 0.007194244604316547, 'well': 0.007194244604316547, 'potenti': 0.007194244604316547, 'flow': 0.007194244604316547, 'theori': 0.007194244604316547, 'empir': 0.007194244604316547, 'specif': 0.007194244604316547, 'configur': 0.007194244604316547, 'experi': 0.007194244604316547}\n",
      "doc_1: {'simpl': 0.01015228426395939, 'shear': 0.01015228426395939, 'flow': 0.030456852791878174, 'past': 0.02030456852791878, 'a': 0.04568527918781726, 'flat': 0.015228426395939087, 'plate': 0.015228426395939087, 'in': 0.03553299492385787, 'an': 0.01015228426395939, 'incompress': 0.01015228426395939, 'fluid': 0.01015228426395939, 'of': 0.030456852791878174, 'small': 0.01015228426395939, 'viscos': 0.01015228426395939, 'the': 0.09137055837563451, 'studi': 0.01015228426395939, 'high': 0.005076142131979695, 'speed': 0.005076142131979695, 'viscou': 0.01015228426395939, 'two': 0.01015228426395939, 'dimension': 0.01015228426395939, 'bodi': 0.01015228426395939, 'it': 0.01015228426395939, 'is': 0.025380710659898477, 'usual': 0.005076142131979695, 'necessari': 0.005076142131979695, 'to': 0.01015228426395939, 'consid': 0.01015228426395939, 'curv': 0.005076142131979695, 'shock': 0.01015228426395939, 'wave': 0.01015228426395939, 'emit': 0.005076142131979695, 'from': 0.01015228426395939, 'nose': 0.005076142131979695, 'or': 0.005076142131979695, 'lead': 0.005076142131979695, 'edg': 0.005076142131979695, 'consequ': 0.005076142131979695, 'there': 0.005076142131979695, 'exist': 0.005076142131979695, 'inviscid': 0.015228426395939087, 'rotat': 0.01015228426395939, 'region': 0.005076142131979695, 'between': 0.005076142131979695, 'and': 0.01015228426395939, 'boundari': 0.025380710659898477, 'layer': 0.025380710659898477, 'such': 0.005076142131979695, 'situat': 0.01015228426395939, 'aris': 0.005076142131979695, 'for': 0.005076142131979695, 'instanc': 0.005076142131979695, 'hyperson': 0.01015228426395939, 'somewhat': 0.005076142131979695, 'differ': 0.005076142131979695, 'prandtl': 0.01015228426395939, 's': 0.01015228426395939, 'classic': 0.005076142131979695, 'problem': 0.02030456852791878, 'origin': 0.005076142131979695, 'free': 0.015228426395939087, 'stream': 0.015228426395939087, 'outsid': 0.005076142131979695, 'irrot': 0.005076142131979695, 'while': 0.005076142131979695, 'must': 0.005076142131979695, 'be': 0.02030456852791878, 'as': 0.005076142131979695, 'possibl': 0.005076142131979695, 'effect': 0.005076142131979695, 'vortic': 0.01015228426395939, 'have': 0.005076142131979695, 'been': 0.005076142131979695, 'recent': 0.005076142131979695, 'discuss': 0.01015228426395939, 'by': 0.01015228426395939, 'ferri': 0.005076142131979695, 'libbi': 0.005076142131979695, 'present': 0.005076142131979695, 'paper': 0.005076142131979695, 'investig': 0.005076142131979695, 'can': 0.01015228426395939, 'shown': 0.005076142131979695, 'that': 0.01015228426395939, 'thi': 0.005076142131979695, 'again': 0.005076142131979695, 'treat': 0.005076142131979695, 'approxim': 0.005076142131979695, 'onli': 0.005076142131979695, 'novel': 0.005076142131979695, 'featur': 0.005076142131979695, 'ha': 0.005076142131979695, 'constant': 0.005076142131979695, 'here': 0.005076142131979695, 'restrict': 0.005076142131979695, 'steadi': 0.005076142131979695}\n",
      "doc_2: {'the': 0.08, 'boundari': 0.08, 'layer': 0.08, 'in': 0.04, 'simpl': 0.04, 'shear': 0.04, 'flow': 0.08, 'past': 0.04, 'a': 0.04, 'flat': 0.04, 'plate': 0.04, 'equat': 0.04, 'are': 0.04, 'present': 0.04, 'for': 0.04, 'steadi': 0.04, 'incompress': 0.04, 'with': 0.04, 'no': 0.04, 'pressur': 0.04, 'gradient': 0.04}\n"
     ]
    }
   ],
   "source": [
    "# Probability of occurrence in the documents.\n",
    "docs_models = [\n",
    "    {term: tf / len(doc_tokens) for term, tf in Counter(doc_tokens).items()}\n",
    "    for doc_tokens in docs_tokens\n",
    "]\n",
    "\n",
    "for i in range(3):\n",
    "    print(f\"doc_{i}:\", docs_models[i])"
   ]
  },
  {
   "cell_type": "code",
   "execution_count": 17,
   "metadata": {},
   "outputs": [
    {
     "name": "stdout",
     "output_type": "stream",
     "text": [
      "doc_0: 0.9999999999999981\n",
      "doc_1: 1.0000000000000009\n",
      "doc_2: 1.0000000000000002\n"
     ]
    }
   ],
   "source": [
    "# Sum of all probabilities must be one. (Just for testing)\n",
    "for i in range(3):\n",
    "    print(f\"doc_{i}:\", sum([docs_models[i][term] for term in docs_models[i]]))"
   ]
  },
  {
   "cell_type": "code",
   "execution_count": 18,
   "metadata": {},
   "outputs": [],
   "source": [
    "def language_model_score(query, k, print_results=False):\n",
    "    query = [ps.stem(token) for token in tokenizer.tokenize(query)]\n",
    "\n",
    "    l = 0.5\n",
    "\n",
    "    docs_scores = np.ones(len(docs))\n",
    "\n",
    "    for doc_id in range(len(docs)):\n",
    "        for term in query:\n",
    "            docs_scores[doc_id] *= l * (docs_models[doc_id].get(term) or 0) + (\n",
    "                1 - l\n",
    "            ) * (collection_model.get(term) or 1)\n",
    "\n",
    "    return format_results(docs_scores, k, print_results)"
   ]
  },
  {
   "cell_type": "code",
   "execution_count": 19,
   "metadata": {},
   "outputs": [],
   "source": [
    "# TODO: Fix error when query has a word that collection doesn't for all three models"
   ]
  },
  {
   "cell_type": "code",
   "execution_count": 20,
   "metadata": {},
   "outputs": [
    {
     "name": "stdout",
     "output_type": "stream",
     "text": [
      "====================== Result 1 ======================\n",
      "{'id': 63, 'score': 4.542787301559045e-13}\n",
      "unsteady oblique interaction of a shock wave with planedisturbances .  analysis is made of the flo...\n",
      "\n",
      "====================== Result 2 ======================\n",
      "{'id': 169, 'score': 6.384999445745297e-15}\n",
      "the interaction of a reflected shock wave with theboundary layer in a shock tube .  ideally, the r...\n",
      "\n",
      "====================== Result 3 ======================\n",
      "{'id': 131, 'score': 5.940336349852554e-15}\n",
      "viscosity effects in sound waves of finite amplitude:in survey in mechanics .  this article has as...\n",
      "\n"
     ]
    },
    {
     "data": {
      "text/plain": [
       "[{'id': 63, 'score': 4.542787301559045e-13},\n",
       " {'id': 169, 'score': 6.384999445745297e-15},\n",
       " {'id': 131, 'score': 5.940336349852554e-15}]"
      ]
     },
     "execution_count": 20,
     "metadata": {},
     "output_type": "execute_result"
    }
   ],
   "source": [
    "language_model_score(\"papers on shock-sound wave interaction\", 3, print_results=True)"
   ]
  },
  {
   "cell_type": "markdown",
   "metadata": {},
   "source": [
    "### ⬜ Compering Document Ranking Model\n",
    "\n",
    "You will need to compare these three approaches for document\n",
    "ranking based on an evaluation you learned in Lecture 7. You are provided with a set of queries and their\n",
    "relevant documents, and you need to utilize these queries during your evaluation. You are suggested to use\n",
    "11-point interpolated average precision for at least a few queries; however, you might resort to other criteria or\n",
    "have a number of queries tested. You may also introduce your own evaluation approach if you are utilizing the\n",
    "Cranfield collection in its original format, although you may also refer to this to change the relevancies of the\n",
    "original format.\n"
   ]
  },
  {
   "cell_type": "code",
   "execution_count": 21,
   "metadata": {},
   "outputs": [
    {
     "name": "stdout",
     "output_type": "stream",
     "text": [
      "========================= QUERY 0 =========================\n",
      "\n",
      "what similarity laws must be obeyed when constructing aeroelastic models\n",
      "of heated high speed aircraft .\n",
      "\n",
      "\n",
      "========================= QUERY 1 =========================\n",
      "\n",
      "what are the structural and aeroelastic problems associated with flight\n",
      "of high speed aircraft .\n",
      "\n",
      "\n"
     ]
    }
   ],
   "source": [
    "QUERIES_PATH = Path(\"cranfield-dataset\") / \"cran.qry.xml\"\n",
    "\n",
    "root = ET.parse(QUERIES_PATH).getroot()\n",
    "\n",
    "queries = []\n",
    "\n",
    "for qry in root.findall(\"top\"):\n",
    "    queries.append(qry.find(\"title\").text)\n",
    "\n",
    "for i in range(2):\n",
    "    print(f\"========================= QUERY {i} =========================\")\n",
    "    print(queries[i])\n",
    "    print()"
   ]
  },
  {
   "cell_type": "code",
   "execution_count": 22,
   "metadata": {},
   "outputs": [
    {
     "name": "stdout",
     "output_type": "stream",
     "text": [
      "[[4, 5, 89, 90, 118, 143, 180, 398], [235, 165], [551, 400, 1296, 1295]]\n"
     ]
    }
   ],
   "source": [
    "NUM_QUERIES = 225\n",
    "RELATED_DOCS_PATH = Path(\"cranfield-dataset\") / \"cranqrel.trec.txt\"\n",
    "\n",
    "related_docs = [[] for _ in range(NUM_QUERIES)]\n",
    "\n",
    "with open(RELATED_DOCS_PATH) as f:\n",
    "    for line in f.readlines():\n",
    "        query_info = [int(info) for info in line.split()]\n",
    "        if query_info[3] == 1:\n",
    "            related_docs[query_info[0] - 1].append(query_info[2] - 1)\n",
    "\n",
    "print(related_docs[2:5])"
   ]
  },
  {
   "cell_type": "code",
   "execution_count": 23,
   "metadata": {},
   "outputs": [
    {
     "name": "stdout",
     "output_type": "stream",
     "text": [
      "### QUERY 3 ###\n",
      "\n",
      "can a criterion be developed to show empirically the validity of flow\n",
      "solutions for chemically reacting gas mixtures based on the simplifying\n",
      "assumption of instantaneous local chemical equilibrium .\n",
      "\n",
      "\n",
      "### RELEVANT DOCS TO QUERY 3 ###\n",
      "================ DOC 235 ================\n",
      "criteria for thermodynamic equilibrium in gas flow .\n",
      "  when gases flow at high velocity, the rates\n",
      "of internal processes may not be fast enough to\n",
      "maintain thermodynamic equilibrium .  by defining\n",
      "qua...\n",
      "================ DOC 165 ================\n",
      "flow of chemically reacting gas mixtures .\n",
      "  suitable forms of the equations\n",
      "for the flow of an inviscid,\n",
      "non-heat-conducting gas in which chemical\n",
      "reactions are occurring are derived .\n",
      "the effects of...\n"
     ]
    }
   ],
   "source": [
    "query_number = 3\n",
    "\n",
    "print(f\"### QUERY {query_number} ###\")\n",
    "print(queries[query_number])\n",
    "print()\n",
    "print(f\"### RELEVANT DOCS TO QUERY {query_number} ###\")\n",
    "for doc_id in related_docs[query_number]:\n",
    "    print(f\"================ DOC {doc_id} ================\")\n",
    "    print(docs[doc_id][0:200], \"...\", sep=\"\")"
   ]
  },
  {
   "cell_type": "code",
   "execution_count": 24,
   "metadata": {},
   "outputs": [],
   "source": [
    "def calc_precession_recall(query_number, results):\n",
    "    true_positive = 0\n",
    "\n",
    "    for result in results:\n",
    "        if result[\"id\"] in related_docs[query_number]:\n",
    "            true_positive += 1\n",
    "\n",
    "    precession = true_positive / len(results)\n",
    "\n",
    "    recall = true_positive / len(related_docs[query_number])\n",
    "\n",
    "    return precession, recall"
   ]
  },
  {
   "cell_type": "code",
   "execution_count": 25,
   "metadata": {},
   "outputs": [
    {
     "name": "stdout",
     "output_type": "stream",
     "text": [
      "RELATED_DOCS: [235, 165]\n",
      "RESULTS(2): [{'id': 165, 'score': 13.359968228754864}, {'id': 487, 'score': 13.218969981982617}]\n",
      "PRECESSION: 0.5\n",
      "RECALL: 0.5\n"
     ]
    }
   ],
   "source": [
    "query_number = 3\n",
    "print(\"RELATED_DOCS:\", related_docs[query_number])\n",
    "results = rsv_score(queries[query_number], k=2)\n",
    "print(f\"RESULTS({len(results)}):\", results)\n",
    "precession, recall = calc_precession_recall(query_number, results)\n",
    "print(\"PRECESSION:\", precession)\n",
    "print(\"RECALL:\", recall)"
   ]
  },
  {
   "cell_type": "code",
   "execution_count": 26,
   "metadata": {},
   "outputs": [],
   "source": [
    "def calc_precession_recall_for_all_k(query_number, results):\n",
    "    precessions = [1]\n",
    "    recalls = [0]\n",
    "    precession, recall = 0, 0\n",
    "\n",
    "    k = 0\n",
    "    while recall < 1:\n",
    "        k += 1\n",
    "\n",
    "        precession, recall2 = calc_precession_recall(query_number, results[:k])\n",
    "\n",
    "        if recall2 > recall:\n",
    "            precessions.append(precession)\n",
    "            recalls.append(recall2)\n",
    "\n",
    "        recall = recall2\n",
    "\n",
    "    return precessions, recalls"
   ]
  },
  {
   "cell_type": "code",
   "execution_count": 27,
   "metadata": {},
   "outputs": [],
   "source": [
    "def pr_re_plot(axs, ays, labels=None, colors=None):\n",
    "    fig, ax = plt.subplots()\n",
    "    plt.style.use(\"_mpl-gallery\")\n",
    "\n",
    "    for i in range(len(axs)):\n",
    "        ax.plot(axs[i], ays[i], linewidth=2.0, color=colors[i] if colors else None)\n",
    "\n",
    "    ax.set_xlabel(\"Recall\")\n",
    "    ax.set_ylabel(\"Precession\")\n",
    "    ax.set_title(\"Pr-Re-Curve\")\n",
    "\n",
    "    ax.set(\n",
    "        xlim=(0, 1),\n",
    "        xticks=np.arange(0, 1.1, 0.2),\n",
    "        ylim=(0, 1.1),\n",
    "        yticks=np.arange(0.2, 1.1, 0.2),\n",
    "    )\n",
    "\n",
    "    if labels:\n",
    "        ax.legend(labels, title=\"model\")\n",
    "\n",
    "    plt.show()"
   ]
  },
  {
   "cell_type": "code",
   "execution_count": 28,
   "metadata": {},
   "outputs": [],
   "source": [
    "query_number = 45\n",
    "\n",
    "results_lists = [\n",
    "    score_func(query=queries[query_number], k=0)\n",
    "    for score_func in [cosine_score, rsv_score, language_model_score]\n",
    "]\n",
    "\n",
    "axs = []\n",
    "ays = []\n",
    "\n",
    "for results in results_lists:\n",
    "    precessions, recalls = calc_precession_recall_for_all_k(query_number, results)\n",
    "\n",
    "    axs.append(recalls)\n",
    "    ays.append(precessions)"
   ]
  },
  {
   "cell_type": "code",
   "execution_count": 29,
   "metadata": {},
   "outputs": [
    {
     "name": "stdout",
     "output_type": "stream",
     "text": [
      "Query(45): \n",
      "what is the combined effect of surface heat and mass transfer on\n",
      "hypersonic flow .\n",
      "\n",
      "===== precession-recall curve (for query 45) =====\n"
     ]
    },
    {
     "data": {
      "image/png": "[encoded data removed]",
      "text/plain": [
       "<Figure size 640x480 with 1 Axes>"
      ]
     },
     "metadata": {},
     "output_type": "display_data"
    }
   ],
   "source": [
    "print(f\"Query({query_number}):\", queries[query_number])\n",
    "print(f\"===== precession-recall curve (for query {query_number}) =====\")\n",
    "pr_re_plot(axs, ays, labels=[\"cosine\", \"rsv\", \"lm\"], colors=[\"red\", \"blue\", \"orange\"])"
   ]
  },
  {
   "cell_type": "code",
   "execution_count": 30,
   "metadata": {},
   "outputs": [],
   "source": [
    "def eleven_point_interpolate_precisions(ax, ay):\n",
    "    ax = np.array(ax)\n",
    "    ay = np.array(ay)\n",
    "\n",
    "    standard_recalls = np.linspace(0.0, 1.0, 11)\n",
    "    y_interp = []\n",
    "\n",
    "    for recall_point in standard_recalls:\n",
    "        max_precision = np.max(ay[ax >= recall_point])\n",
    "        y_interp.append(max_precision)\n",
    "\n",
    "    return np.array(y_interp)"
   ]
  },
  {
   "cell_type": "code",
   "execution_count": 31,
   "metadata": {},
   "outputs": [
    {
     "name": "stdout",
     "output_type": "stream",
     "text": [
      "Query(45): \n",
      "what is the combined effect of surface heat and mass transfer on\n",
      "hypersonic flow .\n",
      "\n",
      "===== 11-point interpolated precession-recall curve (for query 45) =====\n"
     ]
    },
    {
     "data": {
      "image/png": "[encoded data removed]",
      "text/plain": [
       "<Figure size 200x200 with 1 Axes>"
      ]
     },
     "metadata": {},
     "output_type": "display_data"
    }
   ],
   "source": [
    "interpolated_ays = [\n",
    "    eleven_point_interpolate_precisions(ax, ay) for ax, ay in zip(axs, ays)\n",
    "]\n",
    "standard_axs = [np.linspace(0.0, 1.0, 11) for _ in range(len(interpolated_ays))]\n",
    "print(f\"Query({query_number}):\", queries[query_number])\n",
    "print(\n",
    "    f\"===== 11-point interpolated precession-recall curve (for query {query_number}) =====\"\n",
    ")\n",
    "pr_re_plot(\n",
    "    standard_axs,\n",
    "    interpolated_ays,\n",
    "    labels=[\"cosine\", \"rsv\", \"lm\"],\n",
    "    colors=[\"red\", \"blue\", \"orange\"],\n",
    ")"
   ]
  },
  {
   "cell_type": "code",
   "execution_count": 32,
   "metadata": {},
   "outputs": [
    {
     "data": {
      "text/plain": [
       "[array([1.        , 0.46661663, 0.41903878, 0.33720956, 0.29110594,\n",
       "        0.26900955, 0.19690993, 0.17293608, 0.1427423 , 0.10672844,\n",
       "        0.10127902]),\n",
       " array([1.        , 0.5427728 , 0.48918831, 0.41077323, 0.36721977,\n",
       "        0.33082308, 0.22564293, 0.18841821, 0.15469251, 0.12048785,\n",
       "        0.11328891]),\n",
       " array([1.        , 0.50937682, 0.44351953, 0.36364497, 0.3195934 ,\n",
       "        0.27764637, 0.19562337, 0.16015768, 0.13268892, 0.10385231,\n",
       "        0.09843285])]"
      ]
     },
     "execution_count": 32,
     "metadata": {},
     "output_type": "execute_result"
    }
   ],
   "source": [
    "query_numbers = range(0, NUM_QUERIES)\n",
    "\n",
    "sum_ays = [np.zeros(11) for _ in results_lists]\n",
    "\n",
    "for query_number in query_numbers:\n",
    "    results_lists = [\n",
    "        score_func(query=queries[query_number], k=0)\n",
    "        for score_func in [cosine_score, rsv_score, language_model_score]\n",
    "    ]\n",
    "\n",
    "    for model, results in enumerate(results_lists):\n",
    "        precessions, recalls = calc_precession_recall_for_all_k(query_number, results)\n",
    "\n",
    "        sum_ays[model] += eleven_point_interpolate_precisions(ax=recalls, ay=precessions)\n",
    "\n",
    "avg_ays = [ay/len(query_numbers) for ay in sum_ays]\n",
    "\n",
    "avg_ays"
   ]
  },
  {
   "cell_type": "code",
   "execution_count": 33,
   "metadata": {},
   "outputs": [
    {
     "name": "stdout",
     "output_type": "stream",
     "text": [
      "===== 11-point interpolated average precision (for queries 0 ~ 224) =====\n"
     ]
    },
    {
     "data": {
      "image/png": "[encoded data removed]",
      "text/plain": [
       "<Figure size 200x200 with 1 Axes>"
      ]
     },
     "metadata": {},
     "output_type": "display_data"
    }
   ],
   "source": [
    "standard_axs = [np.linspace(0.0, 1.0, 11) for _ in range(len(avg_ays))]\n",
    "print(\n",
    "    f\"===== 11-point interpolated average precision (for queries {query_numbers[0]} ~ {query_numbers[-1]}) =====\"\n",
    ")\n",
    "pr_re_plot(\n",
    "    standard_axs,\n",
    "    avg_ays,\n",
    "    labels=[\"cosine\", \"rsv\", \"lm\"],\n",
    "    colors=[\"red\", \"blue\", \"orange\"],\n",
    ")"
   ]
  },
  {
   "cell_type": "markdown",
   "metadata": {},
   "source": [
    "As we can see in the above curve, rsv_score(probabilistic model) has a better performance in all recalls. After that language_model and vector_space_model are second and third respectively.\n",
    "\n",
    "After recall 0.6, all three model perform approximately the same."
   ]
  },
  {
   "cell_type": "markdown",
   "metadata": {},
   "source": [
    "Lets evaluate one more criteria for this three IR systems\n",
    "\n",
    "#### How fast these models are?"
   ]
  },
  {
   "cell_type": "code",
   "execution_count": 34,
   "metadata": {},
   "outputs": [],
   "source": [
    "import time"
   ]
  },
  {
   "cell_type": "code",
   "execution_count": 35,
   "metadata": {},
   "outputs": [
    {
     "name": "stdout",
     "output_type": "stream",
     "text": [
      "8.25025463104248\n"
     ]
    }
   ],
   "source": [
    "start = time.time()\n",
    "for query in queries:\n",
    "    cosine_score(query, k=0)\n",
    "end = time.time()\n",
    "print(end-start)"
   ]
  },
  {
   "cell_type": "code",
   "execution_count": 36,
   "metadata": {},
   "outputs": [
    {
     "name": "stdout",
     "output_type": "stream",
     "text": [
      "8.325571060180664\n"
     ]
    }
   ],
   "source": [
    "start = time.time()\n",
    "for query in queries:\n",
    "    rsv_score(query, k=0)\n",
    "end = time.time()\n",
    "print(end-start)"
   ]
  },
  {
   "cell_type": "code",
   "execution_count": 37,
   "metadata": {},
   "outputs": [
    {
     "name": "stdout",
     "output_type": "stream",
     "text": [
      "2.6202280521392822\n"
     ]
    }
   ],
   "source": [
    "start = time.time()\n",
    "for query in queries:\n",
    "    language_model_score(query, k=0)\n",
    "end = time.time()\n",
    "print(end-start)"
   ]
  },
  {
   "cell_type": "markdown",
   "metadata": {},
   "source": [
    "As we can see the searching time for cosine_score and rsv_score are close but language model is significantly faster.\n",
    "\n",
    "Overall with this implementations, rsv_score and language model are better than cosine score; because rsv performs better and language model is faster."
   ]
  }
 ],
 "metadata": {
  "kernelspec": {
   "display_name": "Python 3",
   "language": "python",
   "name": "python3"
  },
  "language_info": {
   "codemirror_mode": {
    "name": "ipython",
    "version": 3
   },
   "file_extension": ".py",
   "mimetype": "text/x-python",
   "name": "python",
   "nbconvert_exporter": "python",
   "pygments_lexer": "ipython3",
   "version": "3.10.11"
  }
 },
 "nbformat": 4,
 "nbformat_minor": 2
}
