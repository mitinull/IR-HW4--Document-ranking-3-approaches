{
 "cells": [
  {
   "cell_type": "code",
   "execution_count": 4,
   "metadata": {},
   "outputs": [],
   "source": [
    "from pathlib import Path\n",
    "\n",
    "REL_PATH = Path(\"cranfield-dataset\") / \"cranqrel.trec.txt\""
   ]
  },
  {
   "cell_type": "code",
   "execution_count": 24,
   "metadata": {},
   "outputs": [],
   "source": [
    "NUM_QUERIES = 225\n",
    "\n",
    "relative_docs = [[] for _ in range(NUM_QUERIES)]\n",
    "\n",
    "with open(REL_PATH) as f:\n",
    "    for line in f.readlines():\n",
    "        query_info = [int(info) for info in line.split()]\n",
    "        if query_info[3] == 1:\n",
    "            relative_docs[query_info[0]-1].append(query_info[2])"
   ]
  },
  {
   "cell_type": "code",
   "execution_count": 34,
   "metadata": {},
   "outputs": [
    {
     "name": "stdout",
     "output_type": "stream",
     "text": [
      "[[552, 401, 1297, 1296], [99, 115, 257, 258]]\n"
     ]
    }
   ],
   "source": [
    "print(relative_docs[4:6])"
   ]
  }
 ],
 "metadata": {
  "kernelspec": {
   "display_name": "Python 3",
   "language": "python",
   "name": "python3"
  },
  "language_info": {
   "codemirror_mode": {
    "name": "ipython",
    "version": 3
   },
   "file_extension": ".py",
   "mimetype": "text/x-python",
   "name": "python",
   "nbconvert_exporter": "python",
   "pygments_lexer": "ipython3",
   "version": "3.10.11"
  }
 },
 "nbformat": 4,
 "nbformat_minor": 2
}
