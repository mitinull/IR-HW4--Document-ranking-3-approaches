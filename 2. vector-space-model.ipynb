{
 "cells": [
  {
   "cell_type": "markdown",
   "metadata": {},
   "source": [
    "# Developing an Information Retrieval System with Document Ranking\n",
    "\n",
    "This project aims to augment the Information Retrieval (IR) system developed in the previous assignments by incorporating different Document Ranking strategies. You should use the Cranfield collection as the dataset. You can find\n",
    "that in the original format here or in the TREC XML format with binary tagging here.\n",
    "\n"
   ]
  },
  {
   "cell_type": "markdown",
   "metadata": {},
   "source": [
    "## Project Overview\n",
    "\n",
    "In this project, you will implement three different approaches for document ranking, including the vector space model,\n",
    "the binary independence model, and the language model. Then, you need to compare these ranking models resorting\n",
    "to the evaluation criteria in Lecture 7. Key components and functionalities are as follows:\n"
   ]
  },
  {
   "cell_type": "markdown",
   "metadata": {},
   "source": [
    "### ⬜ Document Ranking – Space Vector Model\n",
    "\n",
    "You will implement a function for document ranking utilizing\n",
    "the tf-idf weighting approach. The function will take as input a query text and an integer indicating the number\n",
    "of top documents to be retrieved. To this end, you might need to store additional information about the ”term\n",
    "frequency” in each document and the ”document frequency” of each term. A good representation and sufficient\n",
    "data storage facilitate you in implementing other models too. You can choose between different tf-idf variants\n",
    "and need to discuss why your chosen approach is preferred.\n"
   ]
  },
  {
   "cell_type": "markdown",
   "metadata": {},
   "source": [
    "#### tf-idf variants:\n",
    "\n",
    "#### discussing why *** is perfect:"
   ]
  },
  {
   "cell_type": "code",
   "execution_count": 52,
   "metadata": {},
   "outputs": [],
   "source": [
    "from pathlib import Path  # For standard paths that work on both windows and linux\n",
    "import pickle  # For write/read dicts to/from files\n",
    "import numpy as np\n",
    "from nltk.tokenize import RegexpTokenizer  # For query tokenization\n",
    "from nltk.stem import PorterStemmer  # For query stemming\n",
    "import math # For calculating idf (log(N/df))\n",
    "from collections import Counter # For calculating query's terms frequency"
   ]
  },
  {
   "cell_type": "code",
   "execution_count": 53,
   "metadata": {},
   "outputs": [],
   "source": [
    "tokenizer = RegexpTokenizer(r'\\w+')\n",
    "ps = PorterStemmer()"
   ]
  },
  {
   "cell_type": "code",
   "execution_count": 54,
   "metadata": {},
   "outputs": [],
   "source": [
    "# reading posting list from file\n",
    "# posting list has been created in the last step (preprocessing)\n",
    "posting_list = None\n",
    "docs = None\n",
    "tokenized_docs = None\n",
    "\n",
    "with open(Path(\"files\") / \"posting_list.pkl\", \"rb\") as f:\n",
    "        posting_list = pickle.load(f)\n",
    "\n",
    "with open(Path(\"files\") / \"docs.pkl\", \"rb\") as f:\n",
    "        docs = pickle.load(f)\n",
    "\n",
    "with open(Path(\"files\") / \"tokenized_docs.pkl\", \"rb\") as f:\n",
    "        tokenized_docs = pickle.load(f)"
   ]
  },
  {
   "cell_type": "code",
   "execution_count": 55,
   "metadata": {},
   "outputs": [
    {
     "name": "stdout",
     "output_type": "stream",
     "text": [
      "but(219 docs): [doc_id: frequency] {13: 2, 24: 1, 27: 1, 43: 1, 48: 2, 61: 1, 65: 1, 71: 2, 93: 1, 109: 2, 113: 1, 115: 1, 124: 1, 125: 1, 131: 1, 137: 1, 139: 1, 148: 1, 151: 1, 152: 1, 155: 2, 159: 1, 167: 1, 172: 1, 175: 1, 178: 1, 184: 1, 187: 1, 188: 1, 190: 1, 192: 1, 198: 2, 200: 1, 201: 4, 203: 1, 205: 1, 208: 1, 209: 1, 211: 2, 213: 1, 220: 1, 226: 1, 228: 1, 240: 1, 243: 1, 246: 1, 251: 2, 254: 2, 260: 1, 265: 1, 271: 1, 282: 1, 283: 1, 291: 1, 295: 1, 328: 4, 337: 2, 346: 1, 347: 1, 351: 1, 369: 1, 374: 1, 389: 1, 403: 2, 416: 1, 430: 1, 440: 1, 451: 1, 458: 2, 476: 2, 483: 1, 489: 1, 498: 2, 510: 1, 514: 1, 518: 1, 519: 1, 520: 1, 521: 1, 526: 1, 535: 1, 544: 1, 546: 1, 555: 1, 561: 1, 563: 1, 565: 1, 566: 1, 568: 1, 569: 1, 571: 1, 588: 1, 594: 1, 599: 1, 603: 1, 635: 1, 639: 1, 642: 1, 651: 1, 659: 1, 660: 1, 662: 1, 666: 1, 670: 1, 672: 1, 678: 1, 684: 2, 685: 1, 691: 1, 703: 2, 717: 1, 720: 1, 726: 1, 730: 1, 738: 1, 747: 1, 751: 1, 752: 2, 755: 1, 756: 2, 759: 1, 762: 1, 785: 1, 795: 1, 796: 3, 797: 2, 798: 1, 808: 1, 809: 1, 810: 1, 813: 1, 817: 1, 819: 1, 823: 1, 841: 1, 867: 1, 868: 1, 872: 1, 873: 1, 876: 1, 882: 1, 888: 1, 891: 1, 901: 1, 902: 1, 907: 1, 908: 1, 910: 1, 912: 1, 922: 1, 927: 1, 929: 1, 932: 1, 961: 3, 965: 2, 976: 1, 983: 1, 984: 1, 989: 1, 993: 1, 999: 2, 1000: 1, 1006: 1, 1011: 1, 1034: 1, 1039: 1, 1041: 1, 1046: 2, 1050: 1, 1053: 1, 1065: 1, 1067: 1, 1074: 1, 1077: 1, 1081: 2, 1083: 1, 1109: 1, 1130: 1, 1135: 1, 1164: 1, 1174: 1, 1177: 1, 1181: 1, 1184: 1, 1187: 2, 1188: 1, 1205: 1, 1206: 1, 1209: 1, 1217: 1, 1219: 1, 1224: 1, 1234: 1, 1237: 1, 1238: 2, 1241: 2, 1243: 2, 1244: 1, 1259: 1, 1264: 1, 1270: 1, 1276: 1, 1302: 1, 1308: 1, 1315: 1, 1319: 1, 1320: 1, 1321: 1, 1324: 1, 1336: 1, 1342: 1, 1369: 1, 1371: 1, 1372: 1, 1374: 2, 1379: 1, 1383: 1, 1384: 1, 1391: 1}\n"
     ]
    }
   ],
   "source": [
    "print(f\"but({len(posting_list['but'])} docs): [doc_id: frequency]\",posting_list[\"but\"])"
   ]
  },
  {
   "cell_type": "code",
   "execution_count": 56,
   "metadata": {},
   "outputs": [],
   "source": [
    "# TODO: using sub-linear tf scaling or other approaches?"
   ]
  },
  {
   "cell_type": "code",
   "execution_count": 57,
   "metadata": {},
   "outputs": [],
   "source": [
    "def cosine_score(query, k):\n",
    "    query = [ps.stem(token) for token in tokenizer.tokenize(query)]\n",
    "\n",
    "    query_term_frequency = Counter(query)\n",
    "\n",
    "    docs_scores = np.zeros(len(docs))\n",
    "\n",
    "    for term in posting_list:\n",
    "        idf = math.log(\n",
    "            len(docs) / len(posting_list[term]), 10\n",
    "        )  # Log base is 10 in the slides\n",
    "\n",
    "        term_query_weight = query_term_frequency[term] * idf\n",
    "\n",
    "        for doc_id in posting_list[term]:\n",
    "            tf = posting_list[term][doc_id]\n",
    "\n",
    "            term_doc_weight = tf * idf\n",
    "\n",
    "            docs_scores[doc_id] += term_query_weight * term_doc_weight\n",
    "\n",
    "    for i in range(len(docs_scores)):\n",
    "        docs_scores[i] /= len(tokenized_docs[i]) or 1\n",
    "\n",
    "    return docs_scores.argsort()[-k:][::-1]"
   ]
  },
  {
   "cell_type": "code",
   "execution_count": 58,
   "metadata": {},
   "outputs": [
    {
     "data": {
      "text/plain": [
       "8.508736462114055e-06"
      ]
     },
     "execution_count": 58,
     "metadata": {},
     "output_type": "execute_result"
    }
   ],
   "source": [
    "0.0011827143682338536/len(tokenized_docs[0])"
   ]
  },
  {
   "cell_type": "code",
   "execution_count": 59,
   "metadata": {},
   "outputs": [
    {
     "data": {
      "text/plain": [
       "array([495, 642, 198, 878, 312], dtype=int64)"
      ]
     },
     "execution_count": 59,
     "metadata": {},
     "output_type": "execute_result"
    }
   ],
   "source": [
    "result = cosine_score(\n",
    "    \"what is the basic mechanism of the transonic aileron buzz .\",\n",
    "    5,\n",
    ")\n",
    "result"
   ]
  },
  {
   "cell_type": "code",
   "execution_count": 62,
   "metadata": {},
   "outputs": [
    {
     "name": "stdout",
     "output_type": "stream",
     "text": [
      "================== Result 1 ==================\n",
      "a theory of transonic aileron buzz, neglecting viscous\n",
      "effects .\n",
      "  usaf-sponsored analysis of the unsteady perturbations of\n",
      "two-dimensional transonic flow around an airfoil, where local supersonic\n",
      "regions terminated by shock waves are present in the vicinity of the\n",
      "airfoil .  viscous effects are neglected, and a linearized theory of\n",
      "the perturbations due to harmonic oscillations of an aileron is\n",
      "developed .  a series solution for the pressure distribution is obtained,\n",
      "and numerical results for the nonsteady hinge moment, from the\n",
      "first approximation to the solution, are presented .  as a result of\n",
      "flutter analysis a stability boundary for transonic aileron buzz is\n",
      "obtained .  comparison of the theoretical results with experimental\n",
      "observations shows satisfactory agreement .\n",
      "\n",
      "================== Result 2 ==================\n",
      "an investigation of wing-aileron flutter using ground\n",
      "launched rocket models .\n",
      "  control surface flutter of the\n",
      "wing torsion-control rotation type has\n",
      "been investigated for an unswept wing\n",
      "with an under-massbalanced, half span,\n",
      "outboard aileron .  thirteen pairs of\n",
      "wings were tested, using ground launched\n",
      "rocket driven vehicles, and a range of\n",
      "values of aileron natural frequency\n",
      "was covered .  the test results showed\n",
      "considerable scatter, but enabled\n",
      "upper and lower limits of a flutter\n",
      "boundary to be determined approximately .\n",
      "it was established that aileron flutter\n",
      "could be eliminated on the models\n",
      "tested provided the aileron frequency\n",
      "exceeded the wing torsional frequency\n",
      "by 20 per cent or more .  in this\n",
      "condition the models were also free from\n",
      "single degree of freedom flutter\n",
      "\n",
      "================== Result 3 ==================\n",
      "measurement of two dimensional derivatives on a wing-aileron-tab\n",
      "system .\n",
      "  measurements have been made of the direct\n",
      "two-dimensional damping and stiffness derivatives for a\n",
      "in incompressible flow .\n",
      "  corrections arising from the apparatus are discussed and\n",
      "reference is made to an attempt to measure the direct\n",
      "tab derivatives .\n",
      "  the effects are shown of frequency parameter, amplitude of\n",
      "oscillation, reynolds number, aileron angle and position\n",
      "of transition on the wing .\n",
      "  variation with frequency parameter is substantially the\n",
      "same as for vortex-sheet theory and variation of amplitude\n",
      "produces little change in both derivatives .  at the lowest\n",
      "reynolds number there is little change in both derivatives\n",
      "with variation of aileron angle for the condition of natural\n",
      "transition, but at higher reynolds numbers the stiffness\n",
      "derivatives increase at .\n",
      "  a forward movement of transition reduces the stiffness\n",
      "derivatives at the smaller aileron angles, but at,\n",
      "at the lowest reynolds number, an increase results .\n",
      "  similar trends are observed for the damping derivatives above .\n",
      "  comparison with vortex-sheet theory shows that the\n",
      "measured values of the stiffness and damping\n",
      "derivatives are approximately 0.6 of the theoretical values .\n",
      "  measurements have been made of the direct\n",
      "tab derivatives and cross aileron-tab derivatives for a\n",
      "per cent aileron and 4 per cent (approx.) tab .  in addition\n",
      "some measurements of the direct aileron derivatives have been\n",
      "made for comparison with earlier results together with a\n",
      "number of static derivatives for the wing and controls .\n",
      "  the influence is shown of frequency parameter, reynolds\n",
      "number, position of transition, mean tab angle and sealing\n",
      "of the control hinge gaps .  some tests have been made with\n",
      "the ailcron set at minus 8 deg and the tab at plus 12 deg\n",
      "for which condition the hinge moment on the aileron was zero .\n",
      "  reasonable agreement with the values given by the /equivalent\n",
      "profile/ theory is shown for both direct damping\n",
      "derivatives and for the direct tab stiffness derivative .  the direct\n",
      "aileron stiffness derivative shows some departure from\n",
      "the theoretical value when .\n",
      "  at and the natural transition, comparison\n",
      "with the values given by flat-plate theory gives the\n",
      "following approximate factors, where suffix denotes the\n",
      "theoretical values ..\n",
      "\n",
      "================== Result 4 ==================\n",
      "flutter model testing at transonic speeds .\n",
      "flutter research on reflection plane models of straight, swept, and\n",
      "delta wings in a 3 x 4 foot transonic test facility . techniques of\n",
      "model construction and testing developed .\n",
      "\n",
      "================== Result 5 ==================\n",
      "on alternative forms for the basic equations of transonic\n",
      "flow theory .\n",
      "attention has been called by numerous authors to the\n",
      "possibility of certain alternative forms for the equations for\n",
      "transonic flow about thin wings .  it is the purpose of this note\n",
      "to contribute to this discussion and to indicate some reasons for\n",
      "the selection of one form of these in preference to another more\n",
      "widely used form .\n",
      "\n"
     ]
    }
   ],
   "source": [
    "# Show the results\n",
    "for i, doc_id in enumerate(result):\n",
    "    print(f\"================== Result {i + 1} ==================\")\n",
    "    print(docs[doc_id])\n",
    "    print()"
   ]
  }
 ],
 "metadata": {
  "kernelspec": {
   "display_name": "Python 3",
   "language": "python",
   "name": "python3"
  },
  "language_info": {
   "codemirror_mode": {
    "name": "ipython",
    "version": 3
   },
   "file_extension": ".py",
   "mimetype": "text/x-python",
   "name": "python",
   "nbconvert_exporter": "python",
   "pygments_lexer": "ipython3",
   "version": "3.10.11"
  }
 },
 "nbformat": 4,
 "nbformat_minor": 2
}
